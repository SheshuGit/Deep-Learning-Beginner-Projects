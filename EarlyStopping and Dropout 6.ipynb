{
 "cells": [
  {
   "cell_type": "code",
   "execution_count": null,
   "id": "52c0aa6d",
   "metadata": {},
   "outputs": [],
   "source": [
    "# importing modules \n",
    "import tensorflow as tf \n",
    "import numpy as np \n",
    "from tensorflow.keras.models import Sequential \n",
    "from tensorflow.keras.layers import Flatten \n",
    "from tensorflow.keras.layers import Dense \n",
    "from tensorflow.keras.layers import Dropout\n",
    "from tensorflow.keras.layers import Activation \n",
    "import matplotlib.pyplot as plt \n",
    "\n",
    "(x_train, y_train), (x_test, y_test) = tf.keras.datasets.mnist.load_data() \n",
    "\n",
    "x_train = x_train.astype('float32') \n",
    "x_test = x_test.astype('float32') \n",
    "  \n",
    "# normalize image pixel values by dividing  \n",
    "# by 255 \n",
    "gray_scale = 255\n",
    "x_train /= gray_scale \n",
    "x_test /= gray_scale \n",
    "\n",
    "from sklearn.model_selection import train_test_split\n",
    "x_train, x_val, y_train, y_val = train_test_split(x_train, y_train, test_size = 0.2, random_state = 0)\n",
    "\n",
    "callback = tf.keras.callbacks.EarlyStopping(monitor='val_loss', patience=5)\n",
    "\n",
    "model = Sequential([ \n",
    "    Flatten(input_shape=(28, 28)), \n",
    "    \n",
    "    Dense(256, activation='relu'), \n",
    "\n",
    "    Dropout(0.5),\n",
    "\n",
    "    Dense(128, activation='relu'),  \n",
    "\n",
    "    Dense(10, activation='sigmoid'),   \n",
    "]) \n",
    "\n",
    "model.compile(optimizer='adam', \n",
    "              loss='sparse_categorical_crossentropy', \n",
    "              metrics=['accuracy']) \n",
    "\n",
    "model.fit(x_train, y_train, epochs=10,callbacks=[callback],  \n",
    "          batch_size=200,  \n",
    "          validation_data = (x_val,y_val)) \n",
    "\n",
    "results = model.evaluate(x_test,  y_test, verbose = 0) \n",
    "print('test loss, test acc:', results)\n",
    "\n"
   ]
  },
  {
   "cell_type": "code",
   "execution_count": 11,
   "id": "800b39ba",
   "metadata": {},
   "outputs": [
    {
     "name": "stdout",
     "output_type": "stream",
     "text": [
      "\u001b[1m1/1\u001b[0m \u001b[32m━━━━━━━━━━━━━━━━━━━━\u001b[0m\u001b[37m\u001b[0m \u001b[1m0s\u001b[0m 59ms/step\n",
      "Predicted Number: 5\n"
     ]
    }
   ],
   "source": [
    "sample = (x_test[0].reshape(1, 28, 28, 1)).astype('float32') / 255.0\n",
    "\n",
    "# Predict\n",
    "pred = model.predict(sample)\n",
    "predicted_class = np.argmax(pred)\n",
    "\n",
    "print(\"Predicted Number:\", predicted_class)"
   ]
  },
  {
   "cell_type": "code",
   "execution_count": null,
   "id": "131d2012",
   "metadata": {},
   "outputs": [],
   "source": [
    "plt.imshow(x_test[0])\n",
    "plt.show()"
   ]
  }
 ],
 "metadata": {
  "kernelspec": {
   "display_name": "Python 3 (ipykernel)",
   "language": "python",
   "name": "python3"
  },
  "language_info": {
   "codemirror_mode": {
    "name": "ipython",
    "version": 3
   },
   "file_extension": ".py",
   "mimetype": "text/x-python",
   "name": "python",
   "nbconvert_exporter": "python",
   "pygments_lexer": "ipython3",
   "version": "3.10.9"
  }
 },
 "nbformat": 4,
 "nbformat_minor": 5
}
