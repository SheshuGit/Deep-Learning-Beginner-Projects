{
 "cells": [
  {
   "cell_type": "code",
   "execution_count": 1,
   "id": "58fea813",
   "metadata": {},
   "outputs": [
    {
     "name": "stderr",
     "output_type": "stream",
     "text": [
      "C:\\Users\\NavyaSanju\\anaconda3\\Lib\\site-packages\\keras\\src\\layers\\reshaping\\flatten.py:37: UserWarning: Do not pass an `input_shape`/`input_dim` argument to a layer. When using Sequential models, prefer using an `Input(shape)` object as the first layer in the model instead.\n",
      "  super().__init__(**kwargs)\n"
     ]
    },
    {
     "name": "stdout",
     "output_type": "stream",
     "text": [
      "Epoch 1/50\n",
      "\u001b[1m240/240\u001b[0m \u001b[32m━━━━━━━━━━━━━━━━━━━━\u001b[0m\u001b[37m\u001b[0m \u001b[1m4s\u001b[0m 9ms/step - accuracy: 0.8281 - loss: 0.6269 - val_accuracy: 0.9494 - val_loss: 0.1628\n",
      "Epoch 2/50\n",
      "\u001b[1m240/240\u001b[0m \u001b[32m━━━━━━━━━━━━━━━━━━━━\u001b[0m\u001b[37m\u001b[0m \u001b[1m2s\u001b[0m 7ms/step - accuracy: 0.9566 - loss: 0.1490 - val_accuracy: 0.9668 - val_loss: 0.1154\n",
      "Epoch 3/50\n",
      "\u001b[1m240/240\u001b[0m \u001b[32m━━━━━━━━━━━━━━━━━━━━\u001b[0m\u001b[37m\u001b[0m \u001b[1m2s\u001b[0m 7ms/step - accuracy: 0.9721 - loss: 0.0948 - val_accuracy: 0.9695 - val_loss: 0.0969\n",
      "Epoch 4/50\n",
      "\u001b[1m240/240\u001b[0m \u001b[32m━━━━━━━━━━━━━━━━━━━━\u001b[0m\u001b[37m\u001b[0m \u001b[1m2s\u001b[0m 8ms/step - accuracy: 0.9820 - loss: 0.0621 - val_accuracy: 0.9708 - val_loss: 0.0977\n",
      "Epoch 5/50\n",
      "\u001b[1m240/240\u001b[0m \u001b[32m━━━━━━━━━━━━━━━━━━━━\u001b[0m\u001b[37m\u001b[0m \u001b[1m2s\u001b[0m 7ms/step - accuracy: 0.9846 - loss: 0.0487 - val_accuracy: 0.9768 - val_loss: 0.0780\n",
      "Epoch 6/50\n",
      "\u001b[1m240/240\u001b[0m \u001b[32m━━━━━━━━━━━━━━━━━━━━\u001b[0m\u001b[37m\u001b[0m \u001b[1m2s\u001b[0m 7ms/step - accuracy: 0.9906 - loss: 0.0332 - val_accuracy: 0.9765 - val_loss: 0.0773\n",
      "Epoch 7/50\n",
      "\u001b[1m240/240\u001b[0m \u001b[32m━━━━━━━━━━━━━━━━━━━━\u001b[0m\u001b[37m\u001b[0m \u001b[1m2s\u001b[0m 6ms/step - accuracy: 0.9925 - loss: 0.0275 - val_accuracy: 0.9783 - val_loss: 0.0729\n",
      "Epoch 8/50\n",
      "\u001b[1m240/240\u001b[0m \u001b[32m━━━━━━━━━━━━━━━━━━━━\u001b[0m\u001b[37m\u001b[0m \u001b[1m2s\u001b[0m 7ms/step - accuracy: 0.9947 - loss: 0.0196 - val_accuracy: 0.9772 - val_loss: 0.0786\n",
      "Epoch 9/50\n",
      "\u001b[1m240/240\u001b[0m \u001b[32m━━━━━━━━━━━━━━━━━━━━\u001b[0m\u001b[37m\u001b[0m \u001b[1m2s\u001b[0m 6ms/step - accuracy: 0.9963 - loss: 0.0150 - val_accuracy: 0.9777 - val_loss: 0.0836\n",
      "Epoch 10/50\n",
      "\u001b[1m240/240\u001b[0m \u001b[32m━━━━━━━━━━━━━━━━━━━━\u001b[0m\u001b[37m\u001b[0m \u001b[1m2s\u001b[0m 6ms/step - accuracy: 0.9969 - loss: 0.0117 - val_accuracy: 0.9793 - val_loss: 0.0755\n",
      "Epoch 11/50\n",
      "\u001b[1m240/240\u001b[0m \u001b[32m━━━━━━━━━━━━━━━━━━━━\u001b[0m\u001b[37m\u001b[0m \u001b[1m2s\u001b[0m 7ms/step - accuracy: 0.9976 - loss: 0.0096 - val_accuracy: 0.9803 - val_loss: 0.0775\n",
      "Epoch 12/50\n",
      "\u001b[1m240/240\u001b[0m \u001b[32m━━━━━━━━━━━━━━━━━━━━\u001b[0m\u001b[37m\u001b[0m \u001b[1m2s\u001b[0m 7ms/step - accuracy: 0.9985 - loss: 0.0067 - val_accuracy: 0.9778 - val_loss: 0.0851\n",
      "test loss, test acc: [0.08128171414136887, 0.9789000153541565]\n"
     ]
    }
   ],
   "source": [
    "# importing modules \n",
    "import tensorflow as tf \n",
    "import numpy as np \n",
    "from tensorflow.keras.models import Sequential \n",
    "from tensorflow.keras.layers import Flatten \n",
    "from tensorflow.keras.layers import Dense \n",
    "from tensorflow.keras.layers import Activation \n",
    "import matplotlib.pyplot as plt \n",
    "\n",
    "(x_train, y_train), (x_test, y_test) = tf.keras.datasets.mnist.load_data() \n",
    "\n",
    "x_train = x_train.astype('float32') \n",
    "x_test = x_test.astype('float32') \n",
    "  \n",
    "# normalize image pixel values by dividing  \n",
    "# by 255 \n",
    "gray_scale = 255\n",
    "x_train /= gray_scale \n",
    "x_test /= gray_scale \n",
    "\n",
    "from sklearn.model_selection import train_test_split\n",
    "x_train, x_val, y_train, y_val = train_test_split(x_train, y_train, test_size = 0.2, random_state = 0)\n",
    "\n",
    "callback = tf.keras.callbacks.EarlyStopping(monitor='val_loss', patience=5)\n",
    "\n",
    "model = Sequential([ \n",
    "    Flatten(input_shape=(28, 28)), \n",
    "    \n",
    "    Dense(256, activation='relu'),   \n",
    "\n",
    "    Dense(128, activation='relu'),  \n",
    "\n",
    "    Dense(10, activation='sigmoid'),   \n",
    "]) \n",
    "\n",
    "model.compile(optimizer='adam', \n",
    "              loss='sparse_categorical_crossentropy', \n",
    "              metrics=['accuracy']) \n",
    "\n",
    "model.fit(x_train, y_train, epochs=50,callbacks=[callback],  \n",
    "          batch_size=200,  \n",
    "          validation_data = (x_val,y_val)) \n",
    "\n",
    "results = model.evaluate(x_test,  y_test, verbose = 0) \n",
    "print('test loss, test acc:', results)\n",
    "\n"
   ]
  },
  {
   "cell_type": "code",
   "execution_count": 2,
   "id": "4028a695",
   "metadata": {},
   "outputs": [
    {
     "name": "stdout",
     "output_type": "stream",
     "text": [
      "Epoch 1/50\n",
      "\u001b[1m240/240\u001b[0m \u001b[32m━━━━━━━━━━━━━━━━━━━━\u001b[0m\u001b[37m\u001b[0m \u001b[1m3s\u001b[0m 8ms/step - accuracy: 0.9992 - loss: 0.0047 - val_accuracy: 0.9804 - val_loss: 0.0779\n",
      "Epoch 2/50\n",
      "\u001b[1m240/240\u001b[0m \u001b[32m━━━━━━━━━━━━━━━━━━━━\u001b[0m\u001b[37m\u001b[0m \u001b[1m1s\u001b[0m 6ms/step - accuracy: 0.9996 - loss: 0.0037 - val_accuracy: 0.9804 - val_loss: 0.0769\n",
      "Epoch 3/50\n",
      "\u001b[1m240/240\u001b[0m \u001b[32m━━━━━━━━━━━━━━━━━━━━\u001b[0m\u001b[37m\u001b[0m \u001b[1m1s\u001b[0m 6ms/step - accuracy: 0.9997 - loss: 0.0032 - val_accuracy: 0.9807 - val_loss: 0.0762\n",
      "Epoch 4/50\n",
      "\u001b[1m240/240\u001b[0m \u001b[32m━━━━━━━━━━━━━━━━━━━━\u001b[0m\u001b[37m\u001b[0m \u001b[1m1s\u001b[0m 6ms/step - accuracy: 0.9997 - loss: 0.0031 - val_accuracy: 0.9811 - val_loss: 0.0757\n",
      "Epoch 5/50\n",
      "\u001b[1m240/240\u001b[0m \u001b[32m━━━━━━━━━━━━━━━━━━━━\u001b[0m\u001b[37m\u001b[0m \u001b[1m1s\u001b[0m 6ms/step - accuracy: 0.9997 - loss: 0.0031 - val_accuracy: 0.9810 - val_loss: 0.0753\n",
      "test loss, test acc: [0.0752122700214386, 0.9793999791145325]\n"
     ]
    }
   ],
   "source": [
    "model.compile(optimizer='SGD', \n",
    "              loss='sparse_categorical_crossentropy', \n",
    "              metrics=['accuracy']) \n",
    "\n",
    "model.fit(x_train, y_train, epochs=50,callbacks=[callback],  \n",
    "          batch_size=200,  \n",
    "          validation_data = (x_val,y_val)) \n",
    "\n",
    "results = model.evaluate(x_test,  y_test, verbose = 0) \n",
    "print('test loss, test acc:', results)"
   ]
  },
  {
   "cell_type": "code",
   "execution_count": null,
   "id": "679ffd70",
   "metadata": {},
   "outputs": [],
   "source": []
  }
 ],
 "metadata": {
  "kernelspec": {
   "display_name": "Python 3 (ipykernel)",
   "language": "python",
   "name": "python3"
  },
  "language_info": {
   "codemirror_mode": {
    "name": "ipython",
    "version": 3
   },
   "file_extension": ".py",
   "mimetype": "text/x-python",
   "name": "python",
   "nbconvert_exporter": "python",
   "pygments_lexer": "ipython3",
   "version": "3.11.5"
  }
 },
 "nbformat": 4,
 "nbformat_minor": 5
}
